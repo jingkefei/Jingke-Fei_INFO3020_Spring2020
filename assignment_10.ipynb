{
  "nbformat": 4,
  "nbformat_minor": 0,
  "metadata": {
    "colab": {
      "name": "assignment 10.ipynb",
      "provenance": [],
      "authorship_tag": "ABX9TyM4hgfkAvZ0ttH6InrJqxRm",
      "include_colab_link": true
    },
    "kernelspec": {
      "name": "python3",
      "display_name": "Python 3"
    }
  },
  "cells": [
    {
      "cell_type": "markdown",
      "metadata": {
        "id": "view-in-github",
        "colab_type": "text"
      },
      "source": [
        "<a href=\"https://colab.research.google.com/github/jingkefei/Jingke-Fei_INFO3020_Spring2020/blob/master/assignment_10.ipynb\" target=\"_parent\"><img src=\"https://colab.research.google.com/assets/colab-badge.svg\" alt=\"Open In Colab\"/></a>"
      ]
    },
    {
      "cell_type": "code",
      "metadata": {
        "id": "nZ4xmcmPFIaj",
        "colab_type": "code",
        "colab": {}
      },
      "source": [
        "import pymysql\n",
        "\n",
        "pydb=pymysql.connect(\"localhost\",\"root\",\"19930625\",\"pydb\")\n",
        "dbcursor=pydb.cursor()\n",
        "sql=\"select * from country\"\n",
        "command=dbcursor.execute(sql)\n",
        "results=dbcursor.fetchone()\n",
        "print(\"id \\t name1 \\t name2 \\t name3 \\t number \")\n",
        "print(\"--------------------------------------------------------------\")\n",
        "\n",
        "print(\"Database version:%s\"%results)\n",
        "dbcursor.close()\n",
        "results=\"\"\n",
        "pydb.close()\n",
        "\n"
      ],
      "execution_count": 0,
      "outputs": []
    }
  ]
}
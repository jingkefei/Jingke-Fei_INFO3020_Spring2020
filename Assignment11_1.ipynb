{
  "nbformat": 4,
  "nbformat_minor": 0,
  "metadata": {
    "colab": {
      "name": "Assignment11-1.ipynb",
      "provenance": [],
      "authorship_tag": "ABX9TyMWgrvs+DBbuQkkiZN7Cmu1",
      "include_colab_link": true
    },
    "kernelspec": {
      "name": "python3",
      "display_name": "Python 3"
    }
  },
  "cells": [
    {
      "cell_type": "markdown",
      "metadata": {
        "id": "view-in-github",
        "colab_type": "text"
      },
      "source": [
        "<a href=\"https://colab.research.google.com/github/jingkefei/Jingke-Fei_INFO3020_Spring2020/blob/master/Assignment11_1.ipynb\" target=\"_parent\"><img src=\"https://colab.research.google.com/assets/colab-badge.svg\" alt=\"Open In Colab\"/></a>"
      ]
    },
    {
      "cell_type": "markdown",
      "metadata": {
        "id": "oWmxFRXV0gFF",
        "colab_type": "text"
      },
      "source": [
        "Q1"
      ]
    },
    {
      "cell_type": "code",
      "metadata": {
        "id": "c8-8gDZu0Zd4",
        "colab_type": "code",
        "colab": {}
      },
      "source": [
        "import csv\n",
        "filename = \"assign11-1-ch02-data\"\n",
        "    with open(filename) as f:\n",
        "        reader=csv.reader(f)\n",
        "        for row in reader:\n",
        "            if reader.line_num>1:\n",
        "                print(row)\n",
        "except csv.Error as e:\n",
        "    print(\"Error reading CSV file at  line %s:%s\" % (reader.line_num,e))\n",
        "    exit(-1)\n",
        "\n",
        "import pymysql\n",
        "\n",
        "def importData(fn):\n",
        "    with open(filename) as f:\n",
        "        reader = csv.reader(f)\n",
        "        for row in reader:\n",
        "            pydb = pymysql.connect(\"localhost\", \"root\", \"19930625\", \"pydb\")\n",
        "            dbcursor = pydb.cursor()\n",
        "            sql = \"insert into ch02(Date.number) value(%$,%$)\"\n",
        "            data = row[0]\n",
        "            number = row[1]\n",
        "            values = (Date,number)\n",
        "            dbcursor.execute(sql,values)\n",
        "            cursor.close()\n",
        "            db.close()\n",
        "\n",
        "import pandas as pd\n",
        "\n",
        "filename='ch02-data.csv'\n",
        "data=pd.read_csv(filename)\n",
        "Sum = data['numbers'].sum()\n",
        "print(Sum)\n",
        "\n",
        "\n"
      ],
      "execution_count": 0,
      "outputs": []
    },
    {
      "cell_type": "markdown",
      "metadata": {
        "id": "wDrd3P_v0g2a",
        "colab_type": "text"
      },
      "source": [
        "Q2"
      ]
    },
    {
      "cell_type": "code",
      "metadata": {
        "id": "m_YO0tSv0rQ2",
        "colab_type": "code",
        "colab": {}
      },
      "source": [
        "import pandas as pd\n",
        "\n",
        "filename=\"assign11-1-catering_sale_all.xlsx\"\n",
        "data=pd.read_excel(filename,header=None)\n",
        "rows=len(data)\n",
        "cols=len(data.keys())\n",
        "\n",
        "for i in range(rows):\n",
        "    for j in range(cols):\n",
        "        print(data[j][i])\n",
        "#for example choose date 2015-1-8\n",
        "a=data[8][1]\n",
        "b=data[8][2]\n",
        "c=data[8][3]\n",
        "d=data[8][4]\n",
        "e=data[8][5]\n",
        "f=data[8][6]\n",
        "g=data[8][7]\n",
        "h=data[8][8]\n",
        "i=data[8][9]\n",
        "j=data[8][10]\n",
        "\n",
        "cf = data[0,1]\n",
        "sd = data[0,2]\n",
        "r = data[0,3]\n",
        "fch = data[0,4]\n",
        "sb = data[0,5]\n",
        "fcb = data[0,6]\n",
        "du = data[0,7]\n",
        "cd = ddata[0,8]\n",
        "p = data[0,9]\n",
        "oc = data[0,10]\n",
        "data=((a,cf),(b,sd),(c,r),(d,fch),(e,sb),(f,fcb),(g,du),(h,cd),(i,p),(j,oc))\n",
        "best = list(map(min, zip(*test_list))) \n",
        "print (\"The best sold is : \" +  str(best)) "
      ],
      "execution_count": 0,
      "outputs": []
    }
  ]
}
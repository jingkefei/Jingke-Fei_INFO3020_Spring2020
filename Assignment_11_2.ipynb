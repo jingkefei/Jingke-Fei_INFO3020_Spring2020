{
  "nbformat": 4,
  "nbformat_minor": 0,
  "metadata": {
    "colab": {
      "name": "Assignment 11-2.ipynb",
      "provenance": [],
      "authorship_tag": "ABX9TyNHfu2yGcu10ixdvDuk/j/M",
      "include_colab_link": true
    },
    "kernelspec": {
      "name": "python3",
      "display_name": "Python 3"
    }
  },
  "cells": [
    {
      "cell_type": "markdown",
      "metadata": {
        "id": "view-in-github",
        "colab_type": "text"
      },
      "source": [
        "<a href=\"https://colab.research.google.com/github/jingkefei/Jingke-Fei_INFO3020_Spring2020/blob/master/Assignment_11_2.ipynb\" target=\"_parent\"><img src=\"https://colab.research.google.com/assets/colab-badge.svg\" alt=\"Open In Colab\"/></a>"
      ]
    },
    {
      "cell_type": "markdown",
      "metadata": {
        "id": "RoNPQ02otqyr",
        "colab_type": "text"
      },
      "source": [
        "Q1"
      ]
    },
    {
      "cell_type": "code",
      "metadata": {
        "id": "I9An8bPEtqnV",
        "colab_type": "code",
        "colab": {}
      },
      "source": [
        "import pymysql\n",
        "import matplotlib.pyplot as plt\n",
        "\n",
        "pydb=pymysql.connect('localhost','root','19930625','world')\n",
        "dbcursor=pydb.cursor()\n",
        "\n",
        "sql=\"select * from tpython where tpymemo like name,lifeexpectancy%s\"\n",
        "command=dbcursor.execute(sql)\n",
        "results=dbcursor.fetchall()\n",
        "\n",
        "countrylist=[]\n",
        "lifelist=[]\n",
        "\n",
        "for row in results:\n",
        "    countrylist.append(row[0])\n",
        "    lifelist.append(row[1])\n",
        "\n",
        "plt.ylim(60,100)\n",
        "plt.bar(countrylist,lifelist)\n",
        "\n",
        "plt.show()\n",
        "\n",
        "#sorry for no other ideas."
      ],
      "execution_count": 0,
      "outputs": []
    },
    {
      "cell_type": "markdown",
      "metadata": {
        "id": "uDcAx01olRwB",
        "colab_type": "text"
      },
      "source": [
        "Q2"
      ]
    },
    {
      "cell_type": "code",
      "metadata": {
        "id": "o6FlIr8LiNVu",
        "colab_type": "code",
        "colab": {}
      },
      "source": [
        "import matplotlib.pyplot as plt\n",
        "import xlrd\n",
        "\n",
        "file=\"catering_sale_all.xls\"\n",
        "\n",
        "wb=xlrd.open_workbook(filename=file)\n",
        "ws=wb.sheet_by_name(\"Sheet1\")\n",
        "\n",
        "x_data=[]\n",
        "y_data=[]\n",
        "\n",
        "table = file.sheets()[0]\n",
        "x_data = list(range(300))\n",
        "\n",
        "sale = table.col_values(2)\n",
        "\n",
        "for i in range(1,301):\n",
        "    y_data.append(sale[i])\n",
        "    \n",
        "plt.plot(x_data, y_data)\n",
        "plt.title('steamed dumplings')\n",
        "plt.legend()\n",
        "\n",
        "plt.xlabel('x')\n",
        "plt.ylabel('y')\n",
        "plt.show()\n"
      ],
      "execution_count": 0,
      "outputs": []
    }
  ]
}
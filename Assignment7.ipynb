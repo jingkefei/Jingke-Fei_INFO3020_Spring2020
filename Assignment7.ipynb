{
  "nbformat": 4,
  "nbformat_minor": 0,
  "metadata": {
    "colab": {
      "name": "Assignment7.ipynb",
      "provenance": [],
      "authorship_tag": "ABX9TyPa0Xkw6TVmC9xPVOsQCYVn",
      "include_colab_link": true
    },
    "kernelspec": {
      "name": "python3",
      "display_name": "Python 3"
    }
  },
  "cells": [
    {
      "cell_type": "markdown",
      "metadata": {
        "id": "view-in-github",
        "colab_type": "text"
      },
      "source": [
        "<a href=\"https://colab.research.google.com/github/jingkefei/Jingke-Fei_INFO3020_Spring2020/blob/master/Assignment7.ipynb\" target=\"_parent\"><img src=\"https://colab.research.google.com/assets/colab-badge.svg\" alt=\"Open In Colab\"/></a>"
      ]
    },
    {
      "cell_type": "markdown",
      "metadata": {
        "id": "UhuMcObJ207S",
        "colab_type": "text"
      },
      "source": [
        "Q1"
      ]
    },
    {
      "cell_type": "code",
      "metadata": {
        "id": "AfETuzmGmDJP",
        "colab_type": "code",
        "colab": {}
      },
      "source": [
        "import turtle\n",
        "class DrawRect:\n",
        "    def __init__(self, rectmaxnumber=5):\n",
        "        self.rectnum = 0\n",
        "        self.rectmaxnumber = rectmaxnumber\n",
        "\n",
        "    def smallRect(self, line=0):\n",
        "        if line == 4:\n",
        "            return\n",
        "        self.rectangle.left(90)\n",
        "        self.rectangle.forward(100)\n",
        "        line += 1\n",
        "        self.smallRect(line)\n",
        "\n",
        "    def draw(self):\n",
        "        self.rectangle = turtle.Turtle()\n",
        "        self.rectangle.color(\"red\")\n",
        "        self.rectangle.pensize(3)\n",
        "        self.drwMultiple()\n",
        "\n",
        "    def drwMultiple(self):\n",
        "        self.smallRect(0)\n",
        "        self.rectangle.penup()\n",
        "        self.rectangle.forward(150)\n",
        "        self.rectangle.pendown()\n",
        "        self.rectnum += 1\n",
        "        if self.rectnum == self.rectmaxnumber:\n",
        "            return\n",
        "        self.drwMultiple()\n",
        "\n",
        "\n",
        "window = turtle.Screen()\n",
        "window.bgcolor(\"lightgreen\")\n",
        "dr = DrawRect()\n",
        "dr.draw()\n",
        "window.mainloop()"
      ],
      "execution_count": 0,
      "outputs": []
    },
    {
      "cell_type": "markdown",
      "metadata": {
        "id": "Hu8mAc_tp5QD",
        "colab_type": "text"
      },
      "source": [
        "Q2"
      ]
    },
    {
      "cell_type": "code",
      "metadata": {
        "id": "efc3eqDNp5bl",
        "colab_type": "code",
        "colab": {}
      },
      "source": [
        "import turtle\n",
        "import math\n",
        "class DrawRect:\n",
        "\n",
        "def draw_square(self,sidesize=50):\n",
        "    if sidesize>220:\n",
        "        return\n",
        "    self.rectangle.forward(sidesize)\n",
        "    self.rectangle.left(90)\n",
        "    self.draw_square(sidesize)\n",
        "\n",
        "def move_position(self):\n",
        "    self.rectangle.right(135)\n",
        "    self.rectangle.penup()\n",
        "    self.rectangle.forward(30)\n",
        "    self.rectangle.pendown()\n",
        "    self.rectangle.left(135)\n",
        "\n",
        "def draw_clip(self,size=50):\n",
        "    if size>220:\n",
        "        return\n",
        "    draw_square(self,size)\n",
        "    move_position(self)\n",
        "    size=size+2*math.sqrt(float(30**2/2))\n",
        "    self.draw_clip(size)\n",
        "\n",
        " def draw(self):\n",
        "    self.rectangle = turtle.Turtle()\n",
        "    self.rectangle.color(\"red\")\n",
        "    self.rectangle.pensize(3)\n",
        "    self.drwMultiple()\n",
        "\n",
        "window = turtle.Screen()\n",
        "window.bgcolor(\"lightgreen\")\n",
        "dr = DrawRect()\n",
        "dr.draw()\n",
        "window.mainloop()"
      ],
      "execution_count": 0,
      "outputs": []
    },
    {
      "cell_type": "markdown",
      "metadata": {
        "id": "4KymQgVgp5lY",
        "colab_type": "text"
      },
      "source": [
        "Q3"
      ]
    },
    {
      "cell_type": "code",
      "metadata": {
        "id": "t2WiFciWp6AO",
        "colab_type": "code",
        "colab": {}
      },
      "source": [
        "def recursive(nested_number_list):\n",
        "    count=0\n",
        "    value=0\n",
        "    for element in nested_number_list:\n",
        "        if type(element) is list:\n",
        "            value=recursive(element)\n",
        "        else:\n",
        "            value=element\n",
        "        if element==2:\n",
        "            count+=1\n",
        "    return count\n",
        "\n",
        "numberlist=[2,2,2,[5,[234,[7,[4,0]],[6,3,22],[3,[25,65,845,98]]]]]\n",
        "print(count)"
      ],
      "execution_count": 0,
      "outputs": []
    }
  ]
}
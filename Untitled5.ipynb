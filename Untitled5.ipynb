{
  "nbformat": 4,
  "nbformat_minor": 0,
  "metadata": {
    "colab": {
      "name": "Untitled5.ipynb",
      "provenance": [],
      "authorship_tag": "ABX9TyNKtkXjLKJbcLrSNV3l+8ua",
      "include_colab_link": true
    },
    "kernelspec": {
      "name": "python3",
      "display_name": "Python 3"
    }
  },
  "cells": [
    {
      "cell_type": "markdown",
      "metadata": {
        "id": "view-in-github",
        "colab_type": "text"
      },
      "source": [
        "<a href=\"https://colab.research.google.com/github/jingkefei/Jingke-Fei_INFO3020_Spring2020/blob/master/Untitled5.ipynb\" target=\"_parent\"><img src=\"https://colab.research.google.com/assets/colab-badge.svg\" alt=\"Open In Colab\"/></a>"
      ]
    },
    {
      "cell_type": "markdown",
      "metadata": {
        "id": "T7KWJcPrj_qV",
        "colab_type": "text"
      },
      "source": [
        "Q1"
      ]
    },
    {
      "cell_type": "code",
      "metadata": {
        "id": "yFKuIFMdfLjy",
        "colab_type": "code",
        "colab": {
          "base_uri": "https://localhost:8080/",
          "height": 214
        },
        "outputId": "ce6c48f5-c318-42d2-890d-b7eaab7948f8"
      },
      "source": [
        "class Mytime:\n",
        "  def __init__(self,hrs=0,mins=0,secs=0):\n",
        "    totalsecs=hrs*3600+mins*60+secs\n",
        "    self.hours=totalsecs//3600\n",
        "    leftoversecs=totalsecs % 3600\n",
        "    self.minutes=leftoversecs // 60\n",
        "    self.seconds=leftoversecs % 60\n",
        "\n",
        "\n",
        "  def increment(self,seconds):\n",
        "    self.seconds+=seconds;\n",
        "    while self.seconds>=60:\n",
        "      self.seconds-=60\n",
        "      self.minutes+=1\n",
        "\n",
        "    while self.minutes>=60:\n",
        "      self.minutes-=60\n",
        "      self.hours+=1\n",
        "  \n",
        "  def to_seconds(self):\n",
        "    return self.hours*3600+self.minutes*60+self.seconds\n",
        "\n",
        "  def __add__(self,other):\n",
        "    return Mytime(0,0,self.to_seconds()+other.to_seconds())\n",
        "\n",
        "  def __str__(self):\n",
        "    return \"the time is {0}:{1}:{2}\".format(self.hours,self.minutes,self.seconds)\n",
        "\n",
        "\n",
        "def compare_time(t1,t2):\n",
        "  h=t1.hours-t2.hours\n",
        "  m=t1.minutes-t2.minutes\n",
        "  s=t1.seconds-t2.seconds\n",
        "\n",
        "  if s<0:\n",
        "    s+=60\n",
        "    m-=1\n",
        "  \n",
        "  if m<=60:\n",
        "    m+=60\n",
        "    h-=1\n",
        "  \n",
        "  compare_t=Mytime(h,m,s)\n",
        "  return compare_time\n",
        "\n",
        "time1=Mytime(12,59,30)\n",
        "time2=Mytime(-12,-57,-59)\n",
        "time_compare=time1+time2\n",
        "minutes=h*60+self.m*2\n",
        "print(minute)\n"
      ],
      "execution_count": 25,
      "outputs": [
        {
          "output_type": "error",
          "ename": "NameError",
          "evalue": "ignored",
          "traceback": [
            "\u001b[0;31m---------------------------------------------------------------------------\u001b[0m",
            "\u001b[0;31mNameError\u001b[0m                                 Traceback (most recent call last)",
            "\u001b[0;32m<ipython-input-25-d0fe9eb123e5>\u001b[0m in \u001b[0;36m<module>\u001b[0;34m()\u001b[0m\n\u001b[1;32m     47\u001b[0m \u001b[0mtime2\u001b[0m\u001b[0;34m=\u001b[0m\u001b[0mMytime\u001b[0m\u001b[0;34m(\u001b[0m\u001b[0;34m-\u001b[0m\u001b[0;36m12\u001b[0m\u001b[0;34m,\u001b[0m\u001b[0;34m-\u001b[0m\u001b[0;36m57\u001b[0m\u001b[0;34m,\u001b[0m\u001b[0;34m-\u001b[0m\u001b[0;36m59\u001b[0m\u001b[0;34m)\u001b[0m\u001b[0;34m\u001b[0m\u001b[0;34m\u001b[0m\u001b[0m\n\u001b[1;32m     48\u001b[0m \u001b[0mtime_compare\u001b[0m\u001b[0;34m=\u001b[0m\u001b[0mtime1\u001b[0m\u001b[0;34m+\u001b[0m\u001b[0mtime2\u001b[0m\u001b[0;34m\u001b[0m\u001b[0;34m\u001b[0m\u001b[0m\n\u001b[0;32m---> 49\u001b[0;31m \u001b[0mminutes\u001b[0m\u001b[0;34m=\u001b[0m\u001b[0mh\u001b[0m\u001b[0;34m*\u001b[0m\u001b[0;36m60\u001b[0m\u001b[0;34m+\u001b[0m\u001b[0mself\u001b[0m\u001b[0;34m.\u001b[0m\u001b[0mm\u001b[0m\u001b[0;34m*\u001b[0m\u001b[0;36m2\u001b[0m\u001b[0;34m\u001b[0m\u001b[0;34m\u001b[0m\u001b[0m\n\u001b[0m\u001b[1;32m     50\u001b[0m \u001b[0mprint\u001b[0m\u001b[0;34m(\u001b[0m\u001b[0mminute\u001b[0m\u001b[0;34m)\u001b[0m\u001b[0;34m\u001b[0m\u001b[0;34m\u001b[0m\u001b[0m\n",
            "\u001b[0;31mNameError\u001b[0m: name 'h' is not defined"
          ]
        }
      ]
    },
    {
      "cell_type": "markdown",
      "metadata": {
        "id": "KlLU2GFNzhEg",
        "colab_type": "text"
      },
      "source": [
        "Q2"
      ]
    },
    {
      "cell_type": "code",
      "metadata": {
        "id": "rBXmC9x4zhMO",
        "colab_type": "code",
        "colab": {
          "base_uri": "https://localhost:8080/",
          "height": 68
        },
        "outputId": "e69fcdea-26df-4e4e-c8f3-296a68af2674"
      },
      "source": [
        "class Card:\n",
        "  suits=[\"Clubs\",\"Diamonds\",\"Hearts\",\"Spades\"]\n",
        "  ranks=[\"narf\",\"Ace\",\"2\",\"3\",\"4\",\"5\",\"6\",\"7\",\"8\",\"9\",\"10\",\"Jack\",\"Queen\",\"King\"]\n",
        "\n",
        "\n",
        "  def __init__(self,suit=0,rank=0):\n",
        "    self.suit=suit\n",
        "    self.rank=rank\n",
        "\n",
        "  def __str__(self):\n",
        "    return (self.ranks[self.rank]+\" of \"+self.suits[self.suit])\n",
        "  \n",
        "  def cmp(self,other):\n",
        "    if self.suit<other.suit:return 1\n",
        "    if self.suit>other.suit:return -1\n",
        "\n",
        "    if self.rank<other.rank: return 1\n",
        "    if self.rank>other.rank:return -1\n",
        "\n",
        "    return 0\n",
        "\n",
        "  def __eq__(self,other):\n",
        "    return self.cmp(other)==0\n",
        "  \n",
        "  def __le__(self,other):\n",
        "    return self.cmp(other)<=0\n",
        "  \n",
        "  def __ge__(self,other):\n",
        "    return self.cmp(other)>=0\n",
        "\n",
        "  def __gt__(self,other):\n",
        "    return self.cmp(other)>0\n",
        "\n",
        "  def __lt__(self,other):\n",
        "    return self.cmp(other)<0\n",
        "\n",
        "  def __ne__(self,other):\n",
        "    return self.cmp(other)!=0\n",
        "\n",
        "\n",
        "three_of_clubs=Card(0,3)\n",
        "card1=Card(1,1)\n",
        "card2=Card(1,13)\n",
        "print(card1)\n",
        "print(card2)\n",
        "print(card1>card2)"
      ],
      "execution_count": 21,
      "outputs": [
        {
          "output_type": "stream",
          "text": [
            "Ace of Diamonds\n",
            "King of Diamonds\n",
            "True\n"
          ],
          "name": "stdout"
        }
      ]
    },
    {
      "cell_type": "markdown",
      "metadata": {
        "id": "V3DtNQBSzj1m",
        "colab_type": "text"
      },
      "source": [
        "Q3"
      ]
    },
    {
      "cell_type": "code",
      "metadata": {
        "id": "clekIqiUzj8G",
        "colab_type": "code",
        "colab": {}
      },
      "source": [
        ""
      ],
      "execution_count": 0,
      "outputs": []
    }
  ]
}
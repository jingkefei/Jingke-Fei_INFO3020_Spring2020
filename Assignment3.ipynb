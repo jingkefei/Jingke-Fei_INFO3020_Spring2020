{
  "nbformat": 4,
  "nbformat_minor": 0,
  "metadata": {
    "colab": {
      "name": "Assignment3",
      "provenance": [],
      "authorship_tag": "ABX9TyNeqD9lwp8Z6Bk6UElkbOgo",
      "include_colab_link": true
    },
    "kernelspec": {
      "name": "python2",
      "display_name": "Python 2"
    }
  },
  "cells": [
    {
      "cell_type": "markdown",
      "metadata": {
        "id": "view-in-github",
        "colab_type": "text"
      },
      "source": [
        "<a href=\"https://colab.research.google.com/github/jingkefei/Jingke-Fei_INFO3020_Spring2020/blob/master/Assignment3.ipynb\" target=\"_parent\"><img src=\"https://colab.research.google.com/assets/colab-badge.svg\" alt=\"Open In Colab\"/></a>"
      ]
    },
    {
      "cell_type": "code",
      "metadata": {
        "id": "mcrhWrX-T3yV",
        "colab_type": "code",
        "colab": {}
      },
      "source": [
        "a=input(\"please input a number range 0 to 6: \")\n",
        "if a==0:\n",
        "  print(\"Sunday\")\n",
        "elif  a==1:\n",
        "  print(\"Monday\")\n",
        "elif  a==2:\n",
        "  print(\"Tuesday\")\n",
        "elif  a==3:\n",
        "  print(\"Wednesday\")\n",
        "elif  a==4:\n",
        "  print(\"Thursday\")\n",
        "elif  a==5:\n",
        "  print(\"Friday\")\n",
        "elif  a==6:\n",
        "  print(\"Saturday\")\n",
        "else:\n",
        "  print(\"error\")"
      ],
      "execution_count": 0,
      "outputs": []
    },
    {
      "cell_type": "code",
      "metadata": {
        "id": "7A1Y4TYdhmbi",
        "colab_type": "code",
        "colab": {}
      },
      "source": [
        "import math\n",
        "\n",
        "a=float(input(\"please input the first side of right-angled triangle: \"))\n",
        "b=float(input(\"please input the second side of right-angled triangle: \"))\n",
        "c=a*a+b*b\n",
        "print(math.sqrt(c))"
      ],
      "execution_count": 0,
      "outputs": []
    },
    {
      "cell_type": "code",
      "metadata": {
        "id": "6e84HZ6-j4NP",
        "colab_type": "code",
        "outputId": "7ec5b26b-84a7-4f1a-bb69-c1504915290e",
        "colab": {
          "base_uri": "https://localhost:8080/",
          "height": 102
        }
      },
      "source": [
        "a=float(input(\"please input the first side of triangle: \"))\n",
        "b=float(input(\"please input the second side of triangle: \"))\n",
        "c=float(input(\"please input the third side of triangle: \"))\n",
        "print(\"The triangle is right- angled.\")\n",
        "z=a*a+b*b\n",
        "if c==math.sqrt(z):\n",
        "  print(\"True\")\n",
        "else :\n",
        "  print(\"False\")\n",
        "\n"
      ],
      "execution_count": 0,
      "outputs": [
        {
          "output_type": "stream",
          "text": [
            "please input the first side of triangle: 5\n",
            "please input the second side of triangle: 12\n",
            "please input the third side of triangle: 13\n",
            "The triangle is right- angled.\n",
            "True\n"
          ],
          "name": "stdout"
        }
      ]
    },
    {
      "cell_type": "code",
      "metadata": {
        "id": "Vd9H_xnAma-C",
        "colab_type": "code",
        "colab": {}
      },
      "source": [
        "for months in [\"January\",\"February\",\"March\",\"April\",\"May\",\"June\",\"July\",\"August\",\"September\",\"October\",\"November\",\"December\"]:\n",
        "  count = \"One of the months of the year is \"+ months\n",
        "  print(count)"
      ],
      "execution_count": 0,
      "outputs": []
    },
    {
      "cell_type": "code",
      "metadata": {
        "id": "WeIxPCOfsGuW",
        "colab_type": "code",
        "colab": {}
      },
      "source": [
        "list=[2, 10, 32, 3, 66, 17, 42, 99, 20]\n",
        "total=0\n",
        "product=1\n",
        "for i in (list):\n",
        "  total=total+i\n",
        "print(total)\n",
        "for i in (list):\n",
        "  product=product*i\n",
        "print(product) "
      ],
      "execution_count": 0,
      "outputs": []
    },
    {
      "cell_type": "code",
      "metadata": {
        "id": "1tB_apKjtWr6",
        "colab_type": "code",
        "colab": {}
      },
      "source": [
        "import turtle\n",
        "window= turtle.Screen()\n",
        "alex=turtle.Turtle()\n",
        "for i in range(7):\n",
        "    alex.forward(100)\n",
        "    alex.left(60)\n",
        "for i in range(3):\n",
        "    alex.backward(100)\n",
        "    alex.left(120)\n",
        "window.mainloop()"
      ],
      "execution_count": 0,
      "outputs": []
    },
    {
      "cell_type": "code",
      "metadata": {
        "id": "G955mhULtfQU",
        "colab_type": "code",
        "colab": {}
      },
      "source": [
        "import turtle\n",
        "window= turtle.Screen()\n",
        "alex=turtle.Turtle()\n",
        "alex.left(160)\n",
        "alex.forward(100)\n",
        "alex.right(43)\n",
        "alex.forward(100)\n",
        "alex.left(270)\n",
        "alex.forward(100)\n",
        "alex.right(97)\n",
        "alex.forward(100)\n",
        "alex.right(43)\n",
        "alex.forward(100)\n",
        "alex.left(200)\n",
        "alex.forward(100)\n",
        "alex.right(940)\n",
        "alex.forward(100)\n",
        "alex.left(17)\n",
        "alex.forward(100)\n",
        "alex.right(8)\n",
        "alex.forward(100)\n",
        "window.mainloop()"
      ],
      "execution_count": 0,
      "outputs": []
    },
    {
      "cell_type": "code",
      "metadata": {
        "id": "NKf7FoUgtyYm",
        "colab_type": "code",
        "colab": {}
      },
      "source": [
        "n=0\n",
        "for i in range(1,1001):\n",
        "  if i%2==0:\n",
        "    n=n+1\n",
        "print(n)"
      ],
      "execution_count": 0,
      "outputs": []
    }
  ]
}
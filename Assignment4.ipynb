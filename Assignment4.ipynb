{
  "nbformat": 4,
  "nbformat_minor": 0,
  "metadata": {
    "colab": {
      "name": "Assignment4.ipynb",
      "provenance": [],
      "authorship_tag": "ABX9TyNbHwtzy3Ka8IGscZCqYBja",
      "include_colab_link": true
    },
    "kernelspec": {
      "name": "python3",
      "display_name": "Python 3"
    }
  },
  "cells": [
    {
      "cell_type": "markdown",
      "metadata": {
        "id": "view-in-github",
        "colab_type": "text"
      },
      "source": [
        "<a href=\"https://colab.research.google.com/github/jingkefei/Jingke-Fei_INFO3020_Spring2020/blob/master/Assignment4.ipynb\" target=\"_parent\"><img src=\"https://colab.research.google.com/assets/colab-badge.svg\" alt=\"Open In Colab\"/></a>"
      ]
    },
    {
      "cell_type": "markdown",
      "metadata": {
        "id": "uBFx_6mNiuZb",
        "colab_type": "text"
      },
      "source": [
        "Q1"
      ]
    },
    {
      "cell_type": "code",
      "metadata": {
        "id": "15UDcm67iuP8",
        "colab_type": "code",
        "colab": {}
      },
      "source": [
        "import turtle\n",
        "\n",
        "def Q1():\n",
        "    rectangle=turtle.Turtle()\n",
        "    rectangle.color(\"red\")\n",
        "    rectangle.pensize(3)\n",
        "    rectangle.pendown()\n",
        "    n=90\n",
        "    x=30\n",
        "    y=20\n",
        "    for _ in range(5):\n",
        "        for _ in range(4):\n",
        "            rectangle.left(n)\n",
        "            rectangle.forward(x)\n",
        "        rectangle.penup()\n",
        "        rectangle.forward(y)\n",
        "        n=n+180\n",
        "        rectangle.left(n)\n",
        "        rectangle.forward(y)\n",
        "        x=x+40\n",
        "        rectangle.pendown()\n",
        "        \n",
        "window = turtle.Screen()\n",
        "window.bgcolor(\"lightgreen\")\n",
        "Q1()\n",
        "window.mainloop()\n",
        "\n",
        "   \n"
      ],
      "execution_count": 0,
      "outputs": []
    },
    {
      "cell_type": "markdown",
      "metadata": {
        "id": "QKIpaN1Qit9k",
        "colab_type": "text"
      },
      "source": [
        "Q2"
      ]
    },
    {
      "cell_type": "code",
      "metadata": {
        "id": "KrX68J37iteT",
        "colab_type": "code",
        "colab": {}
      },
      "source": [
        "import turtle\n",
        "def Q2(animal,size):\n",
        "    for color in [\"red\"]:\n",
        "        animal.color(color)\n",
        "        animal.forward(size)\n",
        "        animal.left(90)\n",
        "window=turtle.Screen()\n",
        "window.bgcolor(\"lightgreen\")\n",
        "\n",
        "tess=turtle.Turtle()\n",
        "tess.pensize(3)\n",
        "size=1\n",
        "for _ in range(100):\n",
        "    Q2(tess,size)\n",
        "    size+=2\n",
        "    tess.forward(10)\n",
        "window.mainloop()"
      ],
      "execution_count": 0,
      "outputs": []
    },
    {
      "cell_type": "markdown",
      "metadata": {
        "id": "a9c_SU3nijQY",
        "colab_type": "text"
      },
      "source": [
        "Q3"
      ]
    },
    {
      "cell_type": "code",
      "metadata": {
        "id": "ZnFJPWRwVGBO",
        "colab_type": "code",
        "colab": {}
      },
      "source": [
        "filename=input(\"please input your file name:\")\n",
        "a=filename.split(\".\")\n",
        "if a[0]!=filename:\n",
        "  print(\"This is a valid file name.\")\n",
        "else:\n",
        "  print(\"This is a invalid file name.\")\n"
      ],
      "execution_count": 0,
      "outputs": []
    },
    {
      "cell_type": "markdown",
      "metadata": {
        "id": "qQF5q8ediPq7",
        "colab_type": "text"
      },
      "source": [
        "Q4"
      ]
    },
    {
      "cell_type": "code",
      "metadata": {
        "id": "ZiN7ffS6iObI",
        "colab_type": "code",
        "outputId": "9056661c-7cac-4e84-8389-0f28639199b0",
        "colab": {
          "base_uri": "https://localhost:8080/",
          "height": 34
        }
      },
      "source": [
        "s=\"I have a new car.\"\n",
        "a=s.replace(\"I\", \"You\")\n",
        "b=a.replace(\"ve\", \"d\")\n",
        "d=b.replace(\"new\", \"old\")\n",
        "e=d.replace(\"r\", \"t\")\n",
        "print(e)"
      ],
      "execution_count": 26,
      "outputs": [
        {
          "output_type": "stream",
          "text": [
            "You had a old cat.\n"
          ],
          "name": "stdout"
        }
      ]
    }
  ]
}
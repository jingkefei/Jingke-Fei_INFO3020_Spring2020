{
  "nbformat": 4,
  "nbformat_minor": 0,
  "metadata": {
    "colab": {
      "name": "finalexam.ipynb",
      "provenance": [],
      "authorship_tag": "ABX9TyOpd6yc1wqXsyQLuLUejW1c",
      "include_colab_link": true
    },
    "kernelspec": {
      "name": "python3",
      "display_name": "Python 3"
    }
  },
  "cells": [
    {
      "cell_type": "markdown",
      "metadata": {
        "id": "view-in-github",
        "colab_type": "text"
      },
      "source": [
        "<a href=\"https://colab.research.google.com/github/jingkefei/Jingke-Fei_INFO3020_Spring2020/blob/master/finalexam.ipynb\" target=\"_parent\"><img src=\"https://colab.research.google.com/assets/colab-badge.svg\" alt=\"Open In Colab\"/></a>"
      ]
    },
    {
      "cell_type": "markdown",
      "metadata": {
        "id": "zVBleTGF2kjk",
        "colab_type": "text"
      },
      "source": [
        "Q1"
      ]
    },
    {
      "cell_type": "code",
      "metadata": {
        "id": "ag8YLygG1zey",
        "colab_type": "code",
        "outputId": "691be3f2-b8be-435b-ceee-9b6de941fcd9",
        "colab": {
          "base_uri": "https://localhost:8080/",
          "height": 51
        }
      },
      "source": [
        "a=input(\"please input a string:\")\n",
        "print(a)"
      ],
      "execution_count": 1,
      "outputs": [
        {
          "output_type": "stream",
          "text": [
            "please input a string:hello world\n",
            "hello world\n"
          ],
          "name": "stdout"
        }
      ]
    },
    {
      "cell_type": "markdown",
      "metadata": {
        "id": "e1IAMEII3DsY",
        "colab_type": "text"
      },
      "source": [
        "Q2"
      ]
    },
    {
      "cell_type": "code",
      "metadata": {
        "id": "IxpzDUh73FHn",
        "colab_type": "code",
        "outputId": "272070fc-0c02-4640-992a-beaf4596c824",
        "colab": {
          "base_uri": "https://localhost:8080/",
          "height": 34
        }
      },
      "source": [
        "sum=0\n",
        "for i in range(1001):\n",
        "    if i%2==0:\n",
        "      sum=sum+i\n",
        "print(sum)"
      ],
      "execution_count": 0,
      "outputs": [
        {
          "output_type": "stream",
          "text": [
            "250500\n"
          ],
          "name": "stdout"
        }
      ]
    },
    {
      "cell_type": "markdown",
      "metadata": {
        "id": "hcDrrbemB4uh",
        "colab_type": "text"
      },
      "source": [
        "Q3"
      ]
    },
    {
      "cell_type": "code",
      "metadata": {
        "id": "3hlcmy_AFIv6",
        "colab_type": "code",
        "outputId": "40961651-c016-42e1-8ce7-eae5c049466c",
        "colab": {
          "base_uri": "https://localhost:8080/",
          "height": 34
        }
      },
      "source": [
        "def recursive_product(number_list):\n",
        "    total=1\n",
        "    for element in number_list:\n",
        "        if type(element) is list:\n",
        "            total*=recursive_sum(element)\n",
        "        else:\n",
        "            total*=element\n",
        "    return total\n",
        "\n",
        "\n",
        "numbers=[12,10,3,2,[6,[7,8,9],19,21],21]\n",
        "print(recursive_product(numbers))"
      ],
      "execution_count": 0,
      "outputs": [
        {
          "output_type": "stream",
          "text": [
            "18243429120\n"
          ],
          "name": "stdout"
        }
      ]
    },
    {
      "cell_type": "markdown",
      "metadata": {
        "id": "2HpQ2CQkFpO3",
        "colab_type": "text"
      },
      "source": [
        "Q4"
      ]
    },
    {
      "cell_type": "code",
      "metadata": {
        "id": "iKPtrVmJIBxS",
        "colab_type": "code",
        "outputId": "740f9b5c-d3e4-4746-b2ed-aa03aff600e4",
        "colab": {
          "base_uri": "https://localhost:8080/",
          "height": 85
        }
      },
      "source": [
        "import numpy as np\n",
        "numlist=[[23,43,12],[32,12,52],[15,35,52],[19,28,56]]\n",
        "arraylist=np.array(numlist)\n",
        "arraylist[arraylist>20]=0\n",
        "print(arraylist)\n",
        "with open(\"test.txt\",\"w\") as myfile:\n",
        "  myfile.write(str(arraylist))\n",
        "  "
      ],
      "execution_count": 9,
      "outputs": [
        {
          "output_type": "stream",
          "text": [
            "[[ 0  0 12]\n",
            " [ 0 12  0]\n",
            " [15  0  0]\n",
            " [19  0  0]]\n"
          ],
          "name": "stdout"
        }
      ]
    },
    {
      "cell_type": "markdown",
      "metadata": {
        "id": "sLH1sgXcKlcw",
        "colab_type": "text"
      },
      "source": [
        "Q5"
      ]
    },
    {
      "cell_type": "code",
      "metadata": {
        "id": "CNgBb3gAKmTE",
        "colab_type": "code",
        "colab": {
          "base_uri": "https://localhost:8080/",
          "height": 34
        },
        "outputId": "bc27c777-a359-4c65-8c29-ad37719afb15"
      },
      "source": [
        "numbers=[1,3,2,4,2,3,2,2,3,2,2,4,2,32,3,2,4,2,3,5,3,2,4,2,2,4,2,2,4,2,2,3,1,3,2,3]\n",
        "a=numbers.count(1)\n",
        "b=numbers.count(2)\n",
        "c=numbers.count(3)\n",
        "d=numbers.count(4)\n",
        "e=numbers.count(5)\n",
        "f=numbers.count(32)\n",
        "\n",
        "number_count={}\n",
        "number_count[\"1\"]=a\n",
        "number_count[\"2\"]=b\n",
        "number_count[\"3\"]=c\n",
        "number_count[\"4\"]=d\n",
        "number_count[\"5\"]=e\n",
        "number_count[\"32\"]=f\n",
        "print(number_count)\n"
      ],
      "execution_count": 20,
      "outputs": [
        {
          "output_type": "stream",
          "text": [
            "{'1': 2, '2': 17, '3': 9, '4': 6, '5': 1, '32': 1}\n"
          ],
          "name": "stdout"
        }
      ]
    },
    {
      "cell_type": "markdown",
      "metadata": {
        "id": "M5IB1dv091qF",
        "colab_type": "text"
      },
      "source": [
        "Q6"
      ]
    },
    {
      "cell_type": "code",
      "metadata": {
        "id": "2recSVvF93AP",
        "colab_type": "code",
        "outputId": "d630fd52-7247-400f-8a5a-9c67d5ac9a7b",
        "colab": {
          "base_uri": "https://localhost:8080/",
          "height": 34
        }
      },
      "source": [
        "import copy\n",
        "\n",
        "class Point:\n",
        "  def __init__(self,x=0,y=0):\n",
        "    self.x=x\n",
        "    self.y=y\n",
        "\n",
        "  def __str__(self):\n",
        "    return \"({0},{1})\".format(self.x,self.y)\n",
        "\n",
        "def print_point(pt):\n",
        "  print(\"({0},{1})\".format(pt.x,pt.y))\n",
        "\n",
        "def newpoint(p1,p2):\n",
        "  mx=(p1.x+p2.x)\n",
        "  my=(p1.y+p2.y)\n",
        "  return Point(mx,my)\n",
        "\n",
        "p1=Point(1,3)\n",
        "p2=Point(3,4)\n",
        "print(newpoint(p1,p2))\n"
      ],
      "execution_count": 21,
      "outputs": [
        {
          "output_type": "stream",
          "text": [
            "(4,7)\n"
          ],
          "name": "stdout"
        }
      ]
    },
    {
      "cell_type": "markdown",
      "metadata": {
        "id": "kj01xVA1Aym1",
        "colab_type": "text"
      },
      "source": [
        "Q7"
      ]
    },
    {
      "cell_type": "code",
      "metadata": {
        "id": "SNd33AKdSezW",
        "colab_type": "code",
        "colab": {
          "base_uri": "https://localhost:8080/",
          "height": 442
        },
        "outputId": "03168a09-5a1c-429f-e0aa-4addcd24371a"
      },
      "source": [
        "import pandas as pd\n",
        "\n",
        "filename=\"catering_sale_all.xls\"\n",
        "data=pd.read_excel(filename,sheet_name='Sheet1')\n",
        "\n",
        "a=df[\"chicken feet\"].sum()\n",
        "b=df[\"steamed dumplings\"].sum()\n",
        "c=df[\"ribs\"].sum()\n",
        "d=df[\"full chicken\"].sum()\n",
        "e=df[\"stuffed bun\"].sum()\n",
        "f=df[\"flowering cabbage\"].sum()\n",
        "f=df[\"doufu\"].sum()\n",
        "h=df[\"chive dumplings\"].sum()\n",
        "i=df[\"pudding\"].sum()\n",
        "j=df[\"original cabbage\"].sum()\n",
        "\n",
        "menu=(\"0 exit \\n1 chicken feet\\n2 steamed dumplings\\n3 ribs\\n4 full chicken\\n5 stuffed bun\\n6 flowering cabbage\\n7 doufu\\n8 chive dumplings\\n9 pudding\\n10 original cabbage\")\n",
        "print(menu)\n",
        "number=int(input(\"please input a number in the list:\"))\n",
        "\n",
        "if number==1:\n",
        "  print('the total sale is:',a,'\\n',menu)\n",
        "elif number==2:\n",
        "  print('the total sale is:',b,'\\n',menu)\n",
        "elif number==3:\n",
        "  print('the total sale is:',c,'\\n',menu)\n",
        "elif number==4:\n",
        "  print('the total sale is:',d,'\\n',menu)\n",
        "elif number==5:\n",
        "  print('the total sale is:',e,'\\n',menu)\n",
        "elif number==6:\n",
        "  print('the total sale is:',f,'\\n',menu)\n",
        "elif number==7:\n",
        "  print('the total sale is:',g,'\\n',menu)\n",
        "elif number==8:\n",
        "  print('the total sale is:',h,'\\n',menu)\n",
        "elif number==9:\n",
        "  print('the total sale is:',i,'\\n',menu)\n",
        "elif number==10:\n",
        "  print('the total sale is:',j,'\\n',menu)\n",
        "elif number==0:\n",
        "  print(\"Process finished with exit code 255\")\n"
      ],
      "execution_count": 63,
      "outputs": [
        {
          "output_type": "stream",
          "text": [
            "0 exit \n",
            "1 chicken feet\n",
            "2 steamed dumplings\n",
            "3 ribs\n",
            "4 full chicken\n",
            "5 stuffed bun\n",
            "6 flowering cabbage\n",
            "7 doufu\n",
            "8 chive dumplings\n",
            "9 pudding\n",
            "10 original cabbage\n",
            "please input a number in the list:1\n",
            "the total sale is: 10 \n",
            "\n",
            " 0 exit \n",
            "1 chicken feet\n",
            "2 steamed dumplings\n",
            "3 ribs\n",
            "4 full chicken\n",
            "5 stuffed bun\n",
            "6 flowering cabbage\n",
            "7 doufu\n",
            "8 chive dumplings\n",
            "9 pudding\n",
            "10 original cabbage\n"
          ],
          "name": "stdout"
        }
      ]
    },
    {
      "cell_type": "code",
      "metadata": {
        "id": "ydhfnvZB4bYl",
        "colab_type": "code",
        "colab": {}
      },
      "source": [
        "import matplotlib.pyplot as plt\n",
        "x=[1,2,3,2,3,2,2,1]\n",
        "plt.show()"
      ],
      "execution_count": 0,
      "outputs": []
    },
    {
      "cell_type": "code",
      "metadata": {
        "id": "ZY6vueXJiAzj",
        "colab_type": "code",
        "colab": {}
      },
      "source": [
        "North America\n",
        "Asia\n",
        "Africa\n",
        "Europe\n",
        "South America\n",
        "Oceania\n",
        "Antarctica"
      ],
      "execution_count": 0,
      "outputs": []
    },
    {
      "cell_type": "markdown",
      "metadata": {
        "id": "uZ3U_Wh7iFvE",
        "colab_type": "text"
      },
      "source": [
        "Q8"
      ]
    },
    {
      "cell_type": "code",
      "metadata": {
        "id": "OTqF4dOuiK8q",
        "colab_type": "code",
        "colab": {}
      },
      "source": [
        "import pymysql\n",
        "\n",
        "pydb=pymysql.connect('localhost','root','19930625','world')\n",
        "dbcursor=pydb.cursor()\n",
        "\n",
        "sql=\"select lifeexpectancy,continent from country where continent=North America\"\n",
        "command=dbcursor.execute(sql,value)\n",
        "results=dbcursor.fetchall()\n",
        "\n",
        "for row in results:\n",
        "    countrylist.append(row[0])\n",
        "    lifelist.append(str(row[1]))\n",
        "\n",
        "\n",
        "print(\"avglife \\t  | \\t continent\")\n",
        "for row in data:\n",
        "  print(str(row[0])+\"|\\t\"+row[1]+\"\\t\")\n",
        "\n",
        "dbcursor.close()\n",
        "db.close()\n",
        "results=\"\"\n"
      ],
      "execution_count": 0,
      "outputs": []
    },
    {
      "cell_type": "markdown",
      "metadata": {
        "id": "CCzGOFdIiD4E",
        "colab_type": "text"
      },
      "source": [
        "Q9"
      ]
    },
    {
      "cell_type": "code",
      "metadata": {
        "id": "pwZpOvReiLga",
        "colab_type": "code",
        "colab": {}
      },
      "source": [
        "import pymysql\n",
        "import matplotlib.pyplot as plt\n",
        "from pylab import *\n",
        "\n",
        "pydb=pymysql.connect('localhost','root','19930625','world')\n",
        "dbcursor=pydb.cursor()\n",
        "\n",
        "sql=\"select population from country where continent=North America\"\n",
        "\n",
        "command=dbcursor.execute(sql,value)\n",
        "data=dbcursor.fetchall()\n",
        "NorthAmerica=0\n",
        "for row in data：\n",
        "  for i in row:\n",
        "    NorthAmerica=North America+row[i]\n",
        "\n",
        "import pymysql\n",
        "import matplotlib.pyplot as plt\n",
        "from pylab import *\n",
        "\n",
        "pydb=pymysql.connect('localhost','root','19930625','world')\n",
        "dbcursor=pydb.cursor()\n",
        "\n",
        "sql=\"select population from country where continent=Asia\"\n",
        "\n",
        "command=dbcursor.execute(sql,value)\n",
        "data=dbcursor.fetchall()\n",
        "Asia=0\n",
        "for row in data：\n",
        "  for i in row:\n",
        "    Asia=Asia+row[i]\n",
        "\n",
        "import pymysql\n",
        "import matplotlib.pyplot as plt\n",
        "from pylab import *\n",
        "\n",
        "pydb=pymysql.connect('localhost','root','19930625','world')\n",
        "dbcursor=pydb.cursor()\n",
        "\n",
        "sql=\"select population from country where continent=North America\"\n",
        "\n",
        "command=dbcursor.execute(sql,value)\n",
        "data=dbcursor.fetchall()\n",
        "Africa=0\n",
        "for row in data：\n",
        "  for i in row:\n",
        "    Africa=Africa+row[i]\n",
        "\n",
        "import pymysql\n",
        "import matplotlib.pyplot as plt\n",
        "from pylab import *\n",
        "\n",
        "pydb=pymysql.connect('localhost','root','19930625','world')\n",
        "dbcursor=pydb.cursor()\n",
        "\n",
        "sql=\"select population from country where continent=North America\"\n",
        "\n",
        "command=dbcursor.execute(sql,value)\n",
        "data=dbcursor.fetchall()\n",
        "Europe=0\n",
        "for row in data：\n",
        "  for i in row:\n",
        "    Europe=Europe+row[i]\n",
        "\n",
        "import pymysql\n",
        "import matplotlib.pyplot as plt\n",
        "from pylab import *\n",
        "\n",
        "pydb=pymysql.connect('localhost','root','19930625','world')\n",
        "dbcursor=pydb.cursor()\n",
        "\n",
        "sql=\"select population from country where continent=North America\"\n",
        "\n",
        "command=dbcursor.execute(sql,value)\n",
        "data=dbcursor.fetchall()\n",
        "SouthAmerica=0\n",
        "for row in data：\n",
        "  for i in row:\n",
        "    SouthAmericaSouthAmerica+row[i]\n",
        "\n",
        "import pymysql\n",
        "import matplotlib.pyplot as plt\n",
        "from pylab import *\n",
        "\n",
        "pydb=pymysql.connect('localhost','root','19930625','world')\n",
        "dbcursor=pydb.cursor()\n",
        "\n",
        "sql=\"select population from country where continent=North America\"\n",
        "\n",
        "command=dbcursor.execute(sql,value)\n",
        "data=dbcursor.fetchall()\n",
        "Oceania=0\n",
        "for row in data：\n",
        "  for i in row:\n",
        "    Oceania=Oceania+row[i]\n",
        "\n",
        "import pymysql\n",
        "import matplotlib.pyplot as plt\n",
        "from pylab import *\n",
        "\n",
        "pydb=pymysql.connect('localhost','root','19930625','world')\n",
        "dbcursor=pydb.cursor()\n",
        "\n",
        "sql=\"select population from country where continent=North America\"\n",
        "\n",
        "command=dbcursor.execute(sql,value)\n",
        "data=dbcursor.fetchall()\n",
        "Antarctica=0\n",
        "for row in data：\n",
        "  for i in row:\n",
        "    Antarctica=Antarctica+row[i]\n",
        "\n",
        "\n",
        "continentlist=['NorthAmerica','Asia','Africa','Europe','SouthAmerica','Oceania','Antarctica']\n",
        "lifelist=[NorthAmerica,Asia,Africa,Europe,SouthAmerica,Oceania,Antarctica]\n",
        "\n",
        "labels= continentlist\n",
        "x=lifelist\n",
        "\n",
        "explode=[]\n",
        "for _ in range(len(labels)):\n",
        "  explode.append(0.1)\n",
        "pie(x,explode=explode,labels=labels,autopct='%1.1f%%',startangle=40)\n",
        "\n",
        "title('population by continent')\n",
        "show()"
      ],
      "execution_count": 0,
      "outputs": []
    },
    {
      "cell_type": "markdown",
      "metadata": {
        "id": "CnT3gJYxiMLC",
        "colab_type": "text"
      },
      "source": [
        "Q10"
      ]
    },
    {
      "cell_type": "code",
      "metadata": {
        "id": "Vn0jDDw-iN5t",
        "colab_type": "code",
        "colab": {}
      },
      "source": [
        "import matplotlib.pyplot as plt\n",
        "import pandas as pd\n",
        "\n",
        "filename = \"energy-production.csv\"\n",
        "excel = pd.read_excel(filename, header=0)\n",
        "year=input(\"please input a year between 1973 and 2014:\")\n",
        "\n",
        "yearlist=excel[year]\n",
        "detail=('Solar/PV Energy',\t'Geothermal Energy',\t'Wind Energy'\t,'Natural Gas Plant Liquids',\t'Hydroelectric Power'\t,'Biomass Energy','Nuclear Electric Power',\t'Crude Oil'\t,'Natural Gas (Dry)', 'Coal')\n",
        "\n",
        "import matplotlib.pyplot as plt\n",
        "\n",
        "x=('Bill','Fred','Mary','Sue')\n",
        "money=[1.5,2.5,5.5,2.0]\n",
        "\n",
        "plt.ylim(0,30)\n",
        "plt.bar(yearlist,detail)\n",
        "plt.show()\n"
      ],
      "execution_count": 0,
      "outputs": []
    }
  ]
}
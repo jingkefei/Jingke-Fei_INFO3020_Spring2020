{
  "nbformat": 4,
  "nbformat_minor": 0,
  "metadata": {
    "colab": {
      "name": "Assignment5.ipynb",
      "provenance": [],
      "collapsed_sections": [],
      "authorship_tag": "ABX9TyP1whtWpj49TnagUQqIcDDl",
      "include_colab_link": true
    },
    "kernelspec": {
      "name": "python3",
      "display_name": "Python 3"
    }
  },
  "cells": [
    {
      "cell_type": "markdown",
      "metadata": {
        "id": "view-in-github",
        "colab_type": "text"
      },
      "source": [
        "<a href=\"https://colab.research.google.com/github/jingkefei/Jingke-Fei_INFO3020_Spring2020/blob/master/Assignment5.ipynb\" target=\"_parent\"><img src=\"https://colab.research.google.com/assets/colab-badge.svg\" alt=\"Open In Colab\"/></a>"
      ]
    },
    {
      "cell_type": "code",
      "metadata": {
        "id": "VoNstC_cgrvn",
        "colab_type": "code",
        "colab": {
          "base_uri": "https://localhost:8080/",
          "height": 51
        },
        "outputId": "ee531abb-267f-4027-fa67-90db6e1f1abf"
      },
      "source": [
        "NIC=((\"A\",1,\"MATH\"),(\"B\",2,\"ENGL\"))\n",
        "a=input(\"please input a name:\")\n",
        "for name,ID,course in NIC:\n",
        "  if a==name:\n",
        "    print(course)\n",
        "  "
      ],
      "execution_count": 6,
      "outputs": [
        {
          "output_type": "stream",
          "text": [
            "please input a name:B\n",
            "ENGL\n"
          ],
          "name": "stdout"
        }
      ]
    },
    {
      "cell_type": "markdown",
      "metadata": {
        "id": "cG3if6pyigSk",
        "colab_type": "text"
      },
      "source": [
        "Q2"
      ]
    },
    {
      "cell_type": "code",
      "metadata": {
        "id": "DIYuRHTqrcuj",
        "colab_type": "code",
        "colab": {
          "base_uri": "https://localhost:8080/",
          "height": 34
        },
        "outputId": "6eae0277-013d-444b-a204-e8fa920871c7"
      },
      "source": [
        "m=int(input(\"please input a number of rows:\"))\n",
        "n=int(input(\"please input a number of columns:\"))\n",
        "for i in range(m):\n",
        "  a.append([])\n",
        " \n",
        "\n",
        "mn=[[1,2,3],[4,5,6],[7,8,9],[10,11,12]]\n",
        "s=input(\"please input a specific number:\")\n",
        "x=0\n",
        "y=0\n",
        "for _ in mn:\n",
        "  if mn[x][y]==a:\n",
        "    break\n",
        "    print(X)\n",
        "  else:\n",
        "    y+=1\n",
        "    if y=3:\n",
        "      "
      ],
      "execution_count": 45,
      "outputs": [
        {
          "output_type": "stream",
          "text": [
            "please input a specific number:0\n"
          ],
          "name": "stdout"
        }
      ]
    },
    {
      "cell_type": "markdown",
      "metadata": {
        "id": "iwBJ6mlCihud",
        "colab_type": "text"
      },
      "source": [
        "Q3"
      ]
    },
    {
      "cell_type": "code",
      "metadata": {
        "id": "iQLBkqAQiigk",
        "colab_type": "code",
        "colab": {}
      },
      "source": [
        "dictionary=\"The weather data that we use to produce our weather forecast charts come from the most trusted and reliable sources available. These sources include the US National Weather Service (NWS), the National Oceanic and Atmospheric Administration (NOAA), the National Centers for Environmental Prediction (NCEP), the Marine Meteorology Division of the U.S. Naval Research Laboratory (NRL), Frivind AS and the Cyprus Oceanography Center.\"\n",
        "a=dictionary.count(\"a\")\n",
        "b=dictionary.count(\"the\")\n",
        "c=dictionary.count(\"we\")\n",
        "d=dictionary.count(\"use\")\n",
        "word_count={}\n",
        "word_count[\"a\"]=a\n",
        "word_count[\"b\"]=b\n",
        "word_count[\"c\"]=c\n",
        "word_count[\"d\"]=d\n",
        "print(word_count)"
      ],
      "execution_count": 0,
      "outputs": []
    }
  ]
}
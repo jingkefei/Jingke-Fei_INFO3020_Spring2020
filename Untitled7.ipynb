{
  "nbformat": 4,
  "nbformat_minor": 0,
  "metadata": {
    "colab": {
      "name": "Untitled7.ipynb",
      "provenance": [],
      "authorship_tag": "ABX9TyNy4vvK7k/+bqtFsES2ryxF",
      "include_colab_link": true
    },
    "kernelspec": {
      "name": "python3",
      "display_name": "Python 3"
    }
  },
  "cells": [
    {
      "cell_type": "markdown",
      "metadata": {
        "id": "view-in-github",
        "colab_type": "text"
      },
      "source": [
        "<a href=\"https://colab.research.google.com/github/jingkefei/Jingke-Fei_INFO3020_Spring2020/blob/master/Untitled7.ipynb\" target=\"_parent\"><img src=\"https://colab.research.google.com/assets/colab-badge.svg\" alt=\"Open In Colab\"/></a>"
      ]
    },
    {
      "cell_type": "markdown",
      "metadata": {
        "id": "FwA30sZGcaXx",
        "colab_type": "text"
      },
      "source": [
        "Q1"
      ]
    },
    {
      "cell_type": "code",
      "metadata": {
        "id": "mTG109-WcaiB",
        "colab_type": "code",
        "colab": {}
      },
      "source": [
        "import pymysql\n",
        "\n",
        "db=pymysql.connect(\"localhost\",\"root\",\"19930625\",\"pydb\")\n",
        "dbcursor=db.cursor()\n",
        "\n",
        "sql = \"insert into tstudet (studid,stuname,stugender,major,stuyear,tuition) values(%s,%s,%s,%s,%s,%s)\"\n",
        "values = [(\"8\", \"H\", \"F\", \"CS\", \"2020-04-06\", \"7000\"),\n",
        "(\"9\", \"H\", \"F\", \"DS\", \"2020-04-06\", \"7000\"),\n",
        "(\"10\", \"H\", \"F\", \"DS\", \"2020-04-06\", \"7000\"),\n",
        "(\"11\", \"H\", \"F\", \"DS\", \"2020-04-06\", \"7000\"),\n",
        "(\"12\", \"H\", \"F\", \"DS\", \"2020-04-06\", \"7000\"),\n",
        "(\"13\", \"H\", \"F\", \"IS\", \"2020-04-06\", \"7000\"),\n",
        "(\"14\", \"H\", \"F\", \"IS\", \"2020-04-06\", \"7000\")，\n",
        "(\"15\", \"H\", \"F\", \"IS\", \"2020-04-06\", \"7000\"),\n",
        "(\"16\", \"H\", \"F\", \"IS\", \"2020-04-06\", \"7000\"),\n",
        "(\"17\", \"H\", \"F\", \"IS\", \"2020-04-06\", \"7000\"),\n",
        "(\"18\", \"H\", \"F\", \"CS\", \"2020-04-06\", \"7000\"),\n",
        "(\"19\", \"H\", \"F\", \"CS\", \"2020-04-06\", \"7000\"),\n",
        "(\"20\", \"H\", \"F\", \"CS\", \"2020-04-06\", \"7000\")，\n",
        "(\"21\", \"H\", \"F\", \"CS\", \"2020-04-06\", \"7000\"),\n",
        "(\"22\", \"H\", \"F\", \"CS\", \"2020-04-06\", \"7000\"),\n",
        "(\"23\", \"H\", \"F\", \"CS\", \"2020-04-06\", \"7000\"),\n",
        "(\"24\", \"H\", \"F\", \"CS\", \"2020-04-06\", \"7000\"),\n",
        "(\"25\", \"H\", \"F\", \"CS\", \"2020-04-06\", \"7000\"),\n",
        "(\"26\", \"H\", \"F\", \"CS\", \"2020-04-06\", \"7000\"),\n",
        "(\"27\", \"H\", \"F\", \"CS\", \"2020-04-06\", \"7000\"),\n",
        "(\"28\", \"H\", \"F\", \"CS\", \"2020-04-06\", \"7000\"),\n",
        "(\"29\", \"H\", \"F\", \"CS\", \"2020-04-06\", \"7000\"),\n",
        "(\"30\", \"H\", \"F\", \"CS\", \"2020-04-06\", \"7000\")]\n",
        "\n",
        "dbcursor.execute(sql,values)\n",
        "db.commit()\n",
        "\n",
        "dbcursor.close()\n",
        "db.close()"
      ],
      "execution_count": 0,
      "outputs": []
    },
    {
      "cell_type": "markdown",
      "metadata": {
        "id": "vpPl1N89cap2",
        "colab_type": "text"
      },
      "source": [
        "Q2"
      ]
    },
    {
      "cell_type": "code",
      "metadata": {
        "id": "KiojLjV-caw3",
        "colab_type": "code",
        "colab": {}
      },
      "source": [
        "import pymysql\n",
        "\n",
        "db=pymysql.connect(\"localhost\",\"root\",\"19930625\",\"pydb\")\n",
        "dbcursor=db.cursor()\n",
        "sql=\"delete from tstudet where stuid=%s\"\n",
        "values=int(input(\"please input an id you want to delete:\"))\n",
        "dbcursor.execute(sql,values)\n",
        "db.commit()\n",
        "dbcursor.close()\n",
        "db.close()"
      ],
      "execution_count": 0,
      "outputs": []
    },
    {
      "cell_type": "markdown",
      "metadata": {
        "id": "2YQ35vPuca4H",
        "colab_type": "text"
      },
      "source": [
        "Q3"
      ]
    },
    {
      "cell_type": "code",
      "metadata": {
        "id": "nmbwWzjgca9_",
        "colab_type": "code",
        "colab": {}
      },
      "source": [
        "import pymysql\n",
        "\n",
        "db=pymysql.connect(\"localhost\",\"root\",\"19930625\",\"pydb\")\n",
        "dbcursor=db.cursor()\n",
        "sql=\"update tstudet set studid=%s,stuname=%s,major=%s where studid=2\"\n",
        "values=(5,\"Jed\",\"Data Science\")\n",
        "dbcursor.execute(sql,values)\n",
        "db.commit()\n",
        "dbcursor.close()\n",
        "db.close()"
      ],
      "execution_count": 0,
      "outputs": []
    },
    {
      "cell_type": "markdown",
      "metadata": {
        "id": "7wun0PYhcbEQ",
        "colab_type": "text"
      },
      "source": [
        "Q4"
      ]
    },
    {
      "cell_type": "code",
      "metadata": {
        "id": "PLTCVXmCcbLB",
        "colab_type": "code",
        "colab": {}
      },
      "source": [
        "import pymysql\n",
        "db=pymysql.connect(\"localhost\",\"root\",\"19930625\",\"pydb\")\n",
        "dbcursor=db.cursor()\n",
        "sql=\"select * from tstudet where major=CS\"\n",
        "dbcursor.execute(sql)\n",
        "db.commit()\n",
        "dbcursor.close()\n",
        "db.close()"
      ],
      "execution_count": 0,
      "outputs": []
    },
    {
      "cell_type": "markdown",
      "metadata": {
        "id": "04J03gF4cbSf",
        "colab_type": "text"
      },
      "source": [
        "Q5"
      ]
    },
    {
      "cell_type": "code",
      "metadata": {
        "id": "_uv3O_Y8cbYh",
        "colab_type": "code",
        "colab": {}
      },
      "source": [
        "import pymysql\n",
        "db=pymysql.connect(\"localhost\",\"root\",\"19930625\",\"pydb\")\n",
        "dbcursor=db.cursor()\n",
        "n=random.randrange(30)\n",
        "sql=\"select * from tstudet where stuid=n\"\n",
        "dbcursor.execute(sql)\n",
        "db.commit()\n",
        "dbcursor.close()\n",
        "db.close()"
      ],
      "execution_count": 0,
      "outputs": []
    }
  ]
}